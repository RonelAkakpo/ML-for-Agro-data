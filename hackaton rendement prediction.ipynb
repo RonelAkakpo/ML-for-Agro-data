{
 "cells": [
  {
   "cell_type": "code",
   "execution_count": 1,
   "metadata": {},
   "outputs": [],
   "source": [
    "#import librairies\n",
    "\n",
    "\n",
    "import streamlit as st\n",
    "import pandas as pd\n",
    "import numpy as np\n",
    "import matplotlib\n",
    "import matplotlib.pyplot as plt\n",
    "import sklearn\n"
   ]
  },
  {
   "cell_type": "code",
   "execution_count": 2,
   "metadata": {},
   "outputs": [],
   "source": [
    "df = pd.read_csv(\"RENDEMENT.csv\", sep=';')"
   ]
  },
  {
   "cell_type": "code",
   "execution_count": 3,
   "metadata": {},
   "outputs": [
    {
     "data": {
      "text/html": [
       "<div>\n",
       "<style scoped>\n",
       "    .dataframe tbody tr th:only-of-type {\n",
       "        vertical-align: middle;\n",
       "    }\n",
       "\n",
       "    .dataframe tbody tr th {\n",
       "        vertical-align: top;\n",
       "    }\n",
       "\n",
       "    .dataframe thead th {\n",
       "        text-align: right;\n",
       "    }\n",
       "</style>\n",
       "<table border=\"1\" class=\"dataframe\">\n",
       "  <thead>\n",
       "    <tr style=\"text-align: right;\">\n",
       "      <th></th>\n",
       "      <th>region</th>\n",
       "      <th>culture</th>\n",
       "      <th>Date</th>\n",
       "      <th>Production en tonne</th>\n",
       "      <th>Superficie en ha</th>\n",
       "      <th>Rendement kg/ha</th>\n",
       "    </tr>\n",
       "  </thead>\n",
       "  <tbody>\n",
       "    <tr>\n",
       "      <th>0</th>\n",
       "      <td>DAKAR</td>\n",
       "      <td>ARACHIDE</td>\n",
       "      <td>2017</td>\n",
       "      <td>1884.493889</td>\n",
       "      <td>3140.823149</td>\n",
       "      <td>764.142857</td>\n",
       "    </tr>\n",
       "    <tr>\n",
       "      <th>1</th>\n",
       "      <td>DAKAR</td>\n",
       "      <td>ARACHIDE</td>\n",
       "      <td>2018</td>\n",
       "      <td>55.762016</td>\n",
       "      <td>371.746770</td>\n",
       "      <td>150.000000</td>\n",
       "    </tr>\n",
       "    <tr>\n",
       "      <th>2</th>\n",
       "      <td>DAKAR</td>\n",
       "      <td>ARACHIDE</td>\n",
       "      <td>2019</td>\n",
       "      <td>80.000000</td>\n",
       "      <td>400.000000</td>\n",
       "      <td>200.000000</td>\n",
       "    </tr>\n",
       "    <tr>\n",
       "      <th>3</th>\n",
       "      <td>DAKAR</td>\n",
       "      <td>ARACHIDE</td>\n",
       "      <td>2020</td>\n",
       "      <td>556.529307</td>\n",
       "      <td>894.741651</td>\n",
       "      <td>622.000000</td>\n",
       "    </tr>\n",
       "    <tr>\n",
       "      <th>4</th>\n",
       "      <td>DAKAR</td>\n",
       "      <td>ARACHIDE</td>\n",
       "      <td>2021</td>\n",
       "      <td>741.750042</td>\n",
       "      <td>1211.026408</td>\n",
       "      <td>612.497000</td>\n",
       "    </tr>\n",
       "  </tbody>\n",
       "</table>\n",
       "</div>"
      ],
      "text/plain": [
       "  region   culture  Date  Production en tonne  Superficie en ha  \\\n",
       "0  DAKAR  ARACHIDE  2017          1884.493889       3140.823149   \n",
       "1  DAKAR  ARACHIDE  2018            55.762016        371.746770   \n",
       "2  DAKAR  ARACHIDE  2019            80.000000        400.000000   \n",
       "3  DAKAR  ARACHIDE  2020           556.529307        894.741651   \n",
       "4  DAKAR  ARACHIDE  2021           741.750042       1211.026408   \n",
       "\n",
       "   Rendement kg/ha  \n",
       "0       764.142857  \n",
       "1       150.000000  \n",
       "2       200.000000  \n",
       "3       622.000000  \n",
       "4       612.497000  "
      ]
     },
     "execution_count": 3,
     "metadata": {},
     "output_type": "execute_result"
    }
   ],
   "source": [
    "df.head()"
   ]
  },
  {
   "cell_type": "code",
   "execution_count": 4,
   "metadata": {},
   "outputs": [
    {
     "data": {
      "text/plain": [
       "(2187, 6)"
      ]
     },
     "execution_count": 4,
     "metadata": {},
     "output_type": "execute_result"
    }
   ],
   "source": [
    "df.shape"
   ]
  },
  {
   "cell_type": "code",
   "execution_count": 5,
   "metadata": {},
   "outputs": [],
   "source": [
    "df = df.rename({\"region\":\"Region\"}, axis=1)\n",
    "df = df.rename({\"culture\":\"Culture\"}, axis=1)"
   ]
  },
  {
   "cell_type": "code",
   "execution_count": 6,
   "metadata": {},
   "outputs": [],
   "source": [
    "df = df[df[\"Rendement kg/ha\"].notnull()]"
   ]
  },
  {
   "cell_type": "code",
   "execution_count": 7,
   "metadata": {},
   "outputs": [
    {
     "name": "stdout",
     "output_type": "stream",
     "text": [
      "Region                 0\n",
      "Culture                0\n",
      "Date                   0\n",
      "Production en tonne    0\n",
      "Superficie en ha       0\n",
      "Rendement kg/ha        0\n",
      "dtype: int64\n"
     ]
    }
   ],
   "source": [
    "miss_values = df.isnull().sum()\n",
    "print(miss_values)"
   ]
  },
  {
   "cell_type": "code",
   "execution_count": 8,
   "metadata": {},
   "outputs": [
    {
     "data": {
      "text/plain": [
       "0"
      ]
     },
     "execution_count": 8,
     "metadata": {},
     "output_type": "execute_result"
    }
   ],
   "source": [
    "df.duplicated().sum()"
   ]
  },
  {
   "cell_type": "code",
   "execution_count": 9,
   "metadata": {},
   "outputs": [
    {
     "data": {
      "text/html": [
       "<div>\n",
       "<style scoped>\n",
       "    .dataframe tbody tr th:only-of-type {\n",
       "        vertical-align: middle;\n",
       "    }\n",
       "\n",
       "    .dataframe tbody tr th {\n",
       "        vertical-align: top;\n",
       "    }\n",
       "\n",
       "    .dataframe thead th {\n",
       "        text-align: right;\n",
       "    }\n",
       "</style>\n",
       "<table border=\"1\" class=\"dataframe\">\n",
       "  <thead>\n",
       "    <tr style=\"text-align: right;\">\n",
       "      <th></th>\n",
       "      <th>Date</th>\n",
       "      <th>Production en tonne</th>\n",
       "      <th>Superficie en ha</th>\n",
       "      <th>Rendement kg/ha</th>\n",
       "    </tr>\n",
       "  </thead>\n",
       "  <tbody>\n",
       "    <tr>\n",
       "      <th>count</th>\n",
       "      <td>2168.000000</td>\n",
       "      <td>2168.000000</td>\n",
       "      <td>2168.000000</td>\n",
       "      <td>2168.000000</td>\n",
       "    </tr>\n",
       "    <tr>\n",
       "      <th>mean</th>\n",
       "      <td>2019.529520</td>\n",
       "      <td>32199.613841</td>\n",
       "      <td>18430.483786</td>\n",
       "      <td>2901.004506</td>\n",
       "    </tr>\n",
       "    <tr>\n",
       "      <th>std</th>\n",
       "      <td>1.709944</td>\n",
       "      <td>68375.616339</td>\n",
       "      <td>32072.586064</td>\n",
       "      <td>4446.395908</td>\n",
       "    </tr>\n",
       "    <tr>\n",
       "      <th>min</th>\n",
       "      <td>2017.000000</td>\n",
       "      <td>1.250000</td>\n",
       "      <td>2.766423</td>\n",
       "      <td>20.161290</td>\n",
       "    </tr>\n",
       "    <tr>\n",
       "      <th>25%</th>\n",
       "      <td>2018.000000</td>\n",
       "      <td>1243.000000</td>\n",
       "      <td>878.862264</td>\n",
       "      <td>733.500000</td>\n",
       "    </tr>\n",
       "    <tr>\n",
       "      <th>50%</th>\n",
       "      <td>2020.000000</td>\n",
       "      <td>7767.561713</td>\n",
       "      <td>5430.500000</td>\n",
       "      <td>1200.000000</td>\n",
       "    </tr>\n",
       "    <tr>\n",
       "      <th>75%</th>\n",
       "      <td>2021.000000</td>\n",
       "      <td>36240.331625</td>\n",
       "      <td>21500.000000</td>\n",
       "      <td>2402.095239</td>\n",
       "    </tr>\n",
       "    <tr>\n",
       "      <th>max</th>\n",
       "      <td>2022.000000</td>\n",
       "      <td>864504.181000</td>\n",
       "      <td>228684.795300</td>\n",
       "      <td>30000.000000</td>\n",
       "    </tr>\n",
       "  </tbody>\n",
       "</table>\n",
       "</div>"
      ],
      "text/plain": [
       "              Date  Production en tonne  Superficie en ha  Rendement kg/ha\n",
       "count  2168.000000          2168.000000       2168.000000      2168.000000\n",
       "mean   2019.529520         32199.613841      18430.483786      2901.004506\n",
       "std       1.709944         68375.616339      32072.586064      4446.395908\n",
       "min    2017.000000             1.250000          2.766423        20.161290\n",
       "25%    2018.000000          1243.000000        878.862264       733.500000\n",
       "50%    2020.000000          7767.561713       5430.500000      1200.000000\n",
       "75%    2021.000000         36240.331625      21500.000000      2402.095239\n",
       "max    2022.000000        864504.181000     228684.795300     30000.000000"
      ]
     },
     "execution_count": 9,
     "metadata": {},
     "output_type": "execute_result"
    }
   ],
   "source": [
    "df.describe()"
   ]
  },
  {
   "cell_type": "code",
   "execution_count": 10,
   "metadata": {},
   "outputs": [
    {
     "data": {
      "text/plain": [
       "SEDHIOU                  48\n",
       "REGION DE SEDHIOU        48\n",
       "REGION DE KOLDA          47\n",
       "KOLDA                    46\n",
       "REGION DE TAMBACOUNDA    45\n",
       "GOUDOMP                  45\n",
       "BOUNKILING               45\n",
       "TAMBACOUNDA              44\n",
       "VELINGARA                43\n",
       "REGION DE KAOLACK        42\n",
       "REGION DE SAINT-LOUIS    42\n",
       "BIGNONA                  42\n",
       "KAOLACK                  42\n",
       "ZIGUINCHOR               42\n",
       "REGION DE ZIGUINCHOR     42\n",
       "REGION DE FATICK         42\n",
       "KAFFRINE                 42\n",
       "FOUNDIOUGNE              42\n",
       "REGION DE KAFFRINE       42\n",
       "MEDINA YORO FOULA        41\n",
       "NIORO DU RIP             41\n",
       "FATICK                   41\n",
       "DAGANA                   41\n",
       "REGION DE MATAM          41\n",
       "KOUNGHEUL                40\n",
       "MALEM HODDAR             39\n",
       "REGION DE KEDOUGOU       39\n",
       "BIRKILANE                39\n",
       "SARAYA                   39\n",
       "REGION DE DIOURBEL       38\n",
       "KOUPENTOUM               38\n",
       "MBACKE                   38\n",
       "SAINT-LOUIS              37\n",
       "BAMBEY                   37\n",
       "DIOURBEL                 37\n",
       "REGION DE LOUGA          37\n",
       "GOSSAS                   37\n",
       "KANEL                    37\n",
       "PODOR                    36\n",
       "GUINGUINEO               36\n",
       "LINGUERE                 36\n",
       "OUSSOUYE                 36\n",
       "REGION DE THIES          36\n",
       "MBOUR                    36\n",
       "THIES                    36\n",
       "TIVAOUANE                36\n",
       "RANEROU                  35\n",
       "GOUDIRY                  35\n",
       "KEDOUGOU                 33\n",
       "SALEMATA                 33\n",
       "BAKEL                    33\n",
       "MATAM                    33\n",
       "LOUGA                    31\n",
       "KEBEMER                  27\n",
       "RUFISQUE                 26\n",
       "DAKAR                    26\n",
       "Name: Region, dtype: int64"
      ]
     },
     "execution_count": 10,
     "metadata": {},
     "output_type": "execute_result"
    }
   ],
   "source": [
    "df['Region'].value_counts()\n"
   ]
  },
  {
   "cell_type": "code",
   "execution_count": 11,
   "metadata": {},
   "outputs": [
    {
     "data": {
      "text/plain": [
       "ARACHIDE    331\n",
       "MAIS        321\n",
       "NIEBE       315\n",
       "SORGHO      314\n",
       "MIL         302\n",
       "MANIOC      300\n",
       "RIZ         223\n",
       "FONIO        62\n",
       "Name: Culture, dtype: int64"
      ]
     },
     "execution_count": 11,
     "metadata": {},
     "output_type": "execute_result"
    }
   ],
   "source": [
    "df['Culture'].value_counts()\n"
   ]
  },
  {
   "cell_type": "code",
   "execution_count": 12,
   "metadata": {},
   "outputs": [
    {
     "name": "stderr",
     "output_type": "stream",
     "text": [
      "C:\\Users\\AA\\Anaconda3\\lib\\site-packages\\matplotlib\\cbook\\__init__.py:1420: VisibleDeprecationWarning: Creating an ndarray from ragged nested sequences (which is a list-or-tuple of lists-or-tuples-or ndarrays with different lengths or shapes) is deprecated. If you meant to do this, you must specify 'dtype=object' when creating the ndarray.\n",
      "  X = np.atleast_1d(X.T if isinstance(X, np.ndarray) else np.asarray(X))\n"
     ]
    },
    {
     "data": {
      "image/png": "[encoded data removed]",
      "text/plain": [
       "<Figure size 864x504 with 1 Axes>"
      ]
     },
     "metadata": {
      "needs_background": "light"
     },
     "output_type": "display_data"
    }
   ],
   "source": [
    "fig, ax = plt.subplots(1,1, figsize=(12, 7))\n",
    "df.boxplot('Rendement kg/ha', 'Culture', ax=ax)\n",
    "plt.suptitle('Rendement kg/ha v Culture')\n",
    "plt.title('')\n",
    "plt.ylabel('Rendement kg/ha')\n",
    "plt.xticks(rotation=90)\n",
    "plt.show()"
   ]
  },
  {
   "cell_type": "code",
   "execution_count": 13,
   "metadata": {},
   "outputs": [],
   "source": [
    "df = df.rename({\"Rendement kg/ha\":\"Rendement\"}, axis=1)\n",
    "df = df.rename({\"Superficie en ha\":\"Superficie\"}, axis=1)\n",
    "df = df.rename({\"Production en tonne\":\"Production\"}, axis=1)"
   ]
  },
  {
   "cell_type": "code",
   "execution_count": 14,
   "metadata": {},
   "outputs": [
    {
     "data": {
      "text/html": [
       "<div>\n",
       "<style scoped>\n",
       "    .dataframe tbody tr th:only-of-type {\n",
       "        vertical-align: middle;\n",
       "    }\n",
       "\n",
       "    .dataframe tbody tr th {\n",
       "        vertical-align: top;\n",
       "    }\n",
       "\n",
       "    .dataframe thead th {\n",
       "        text-align: right;\n",
       "    }\n",
       "</style>\n",
       "<table border=\"1\" class=\"dataframe\">\n",
       "  <thead>\n",
       "    <tr style=\"text-align: right;\">\n",
       "      <th></th>\n",
       "      <th>Region</th>\n",
       "      <th>Culture</th>\n",
       "      <th>Date</th>\n",
       "      <th>Production</th>\n",
       "      <th>Superficie</th>\n",
       "      <th>Rendement</th>\n",
       "    </tr>\n",
       "  </thead>\n",
       "  <tbody>\n",
       "    <tr>\n",
       "      <th>0</th>\n",
       "      <td>DAKAR</td>\n",
       "      <td>ARACHIDE</td>\n",
       "      <td>2017</td>\n",
       "      <td>1884.493889</td>\n",
       "      <td>3140.823149</td>\n",
       "      <td>764.142857</td>\n",
       "    </tr>\n",
       "    <tr>\n",
       "      <th>1</th>\n",
       "      <td>DAKAR</td>\n",
       "      <td>ARACHIDE</td>\n",
       "      <td>2018</td>\n",
       "      <td>55.762016</td>\n",
       "      <td>371.746770</td>\n",
       "      <td>150.000000</td>\n",
       "    </tr>\n",
       "    <tr>\n",
       "      <th>2</th>\n",
       "      <td>DAKAR</td>\n",
       "      <td>ARACHIDE</td>\n",
       "      <td>2019</td>\n",
       "      <td>80.000000</td>\n",
       "      <td>400.000000</td>\n",
       "      <td>200.000000</td>\n",
       "    </tr>\n",
       "    <tr>\n",
       "      <th>3</th>\n",
       "      <td>DAKAR</td>\n",
       "      <td>ARACHIDE</td>\n",
       "      <td>2020</td>\n",
       "      <td>556.529307</td>\n",
       "      <td>894.741651</td>\n",
       "      <td>622.000000</td>\n",
       "    </tr>\n",
       "    <tr>\n",
       "      <th>4</th>\n",
       "      <td>DAKAR</td>\n",
       "      <td>ARACHIDE</td>\n",
       "      <td>2021</td>\n",
       "      <td>741.750042</td>\n",
       "      <td>1211.026408</td>\n",
       "      <td>612.497000</td>\n",
       "    </tr>\n",
       "  </tbody>\n",
       "</table>\n",
       "</div>"
      ],
      "text/plain": [
       "  Region   Culture  Date   Production   Superficie   Rendement\n",
       "0  DAKAR  ARACHIDE  2017  1884.493889  3140.823149  764.142857\n",
       "1  DAKAR  ARACHIDE  2018    55.762016   371.746770  150.000000\n",
       "2  DAKAR  ARACHIDE  2019    80.000000   400.000000  200.000000\n",
       "3  DAKAR  ARACHIDE  2020   556.529307   894.741651  622.000000\n",
       "4  DAKAR  ARACHIDE  2021   741.750042  1211.026408  612.497000"
      ]
     },
     "execution_count": 14,
     "metadata": {},
     "output_type": "execute_result"
    }
   ],
   "source": [
    "df.head()"
   ]
  },
  {
   "cell_type": "code",
   "execution_count": 15,
   "metadata": {},
   "outputs": [
    {
     "name": "stderr",
     "output_type": "stream",
     "text": [
      "C:\\Users\\AA\\Anaconda3\\lib\\site-packages\\statsmodels\\tools\\_testing.py:19: FutureWarning: pandas.util.testing is deprecated. Use the functions in the public API at pandas.testing instead.\n",
      "  import pandas.util.testing as tm\n"
     ]
    }
   ],
   "source": [
    "import seaborn as sns"
   ]
  },
  {
   "cell_type": "code",
   "execution_count": 16,
   "metadata": {},
   "outputs": [
    {
     "data": {
      "text/plain": [
       "<matplotlib.axes._subplots.AxesSubplot at 0x14c2e5c09b0>"
      ]
     },
     "execution_count": 16,
     "metadata": {},
     "output_type": "execute_result"
    },
    {
     "data": {
      "image/png": "[encoded data removed]",
      "text/plain": [
       "<Figure size 576x720 with 1 Axes>"
      ]
     },
     "metadata": {
      "needs_background": "light"
     },
     "output_type": "display_data"
    }
   ],
   "source": [
    "#rendement par culture\n",
    "\n",
    "plt.figure(figsize=(8, 10))\n",
    "sns.barplot(y=df['Culture'], x=df['Rendement'])"
   ]
  },
  {
   "cell_type": "code",
   "execution_count": 17,
   "metadata": {},
   "outputs": [
    {
     "data": {
      "text/plain": [
       "<matplotlib.axes._subplots.AxesSubplot at 0x14c308e06d8>"
      ]
     },
     "execution_count": 17,
     "metadata": {},
     "output_type": "execute_result"
    },
    {
     "data": {
      "image/png": "[encoded data removed]",
      "text/plain": [
       "<Figure size 720x1080 with 1 Axes>"
      ]
     },
     "metadata": {
      "needs_background": "light"
     },
     "output_type": "display_data"
    }
   ],
   "source": [
    "#rendement par culture\n",
    "\n",
    "plt.figure(figsize=(10, 15))\n",
    "sns.barplot(y=df['Region'], x=df['Rendement'])"
   ]
  },
  {
   "cell_type": "code",
   "execution_count": 18,
   "metadata": {},
   "outputs": [
    {
     "data": {
      "image/png": "[encoded data removed]",
      "text/plain": [
       "<Figure size 432x288 with 2 Axes>"
      ]
     },
     "metadata": {
      "needs_background": "light"
     },
     "output_type": "display_data"
    }
   ],
   "source": [
    "# corrélation entre la production et le rendement\n",
    "correlation_matrix = df[['Production', 'Rendement']].corr()\n",
    "\n",
    "sns.heatmap(correlation_matrix, annot=True, cmap='coolwarm', fmt='.2f')\n",
    "plt.title('Heatmap de Corrélation')\n",
    "plt.show()"
   ]
  },
  {
   "cell_type": "code",
   "execution_count": 19,
   "metadata": {},
   "outputs": [
    {
     "data": {
      "image/png": "[encoded data removed]",
      "text/plain": [
       "<Figure size 432x288 with 2 Axes>"
      ]
     },
     "metadata": {
      "needs_background": "light"
     },
     "output_type": "display_data"
    }
   ],
   "source": [
    "# corrélation entre la superficie et le rendement\n",
    "correlation_matrix = df[['Superficie', 'Rendement']].corr()\n",
    "\n",
    "sns.heatmap(correlation_matrix, annot=True, cmap='coolwarm', fmt='.2f')\n",
    "plt.title('Heatmap de Corrélation')\n",
    "plt.show()"
   ]
  },
  {
   "cell_type": "code",
   "execution_count": 20,
   "metadata": {},
   "outputs": [],
   "source": [
    "#On definit les variables du modele\n",
    "\n",
    "x = df.drop(\"Rendement\", axis=1)  #variables explicatives\n",
    "y = df[\"Rendement\"]               #variable expliquée"
   ]
  },
  {
   "cell_type": "code",
   "execution_count": 21,
   "metadata": {},
   "outputs": [],
   "source": [
    "#libraries pour la regression\n",
    "\n",
    "from sklearn.linear_model import LinearRegression\n",
    "from sklearn.model_selection import train_test_split\n",
    "from sklearn.metrics import mean_absolute_error, mean_squared_error"
   ]
  },
  {
   "cell_type": "code",
   "execution_count": 22,
   "metadata": {},
   "outputs": [],
   "source": [
    "#division into train and test\n",
    "\n",
    "x_train, x_test, y_train, y_test = train_test_split(x, y, test_size=0.2, random_state=42)"
   ]
  },
  {
   "cell_type": "code",
   "execution_count": 23,
   "metadata": {},
   "outputs": [],
   "source": [
    "from sklearn.preprocessing import OneHotEncoder\n",
    "from sklearn.compose import ColumnTransformer\n",
    "from sklearn.preprocessing import StandardScaler"
   ]
  },
  {
   "cell_type": "code",
   "execution_count": 24,
   "metadata": {},
   "outputs": [
    {
     "name": "stdout",
     "output_type": "stream",
     "text": [
      "                     Region   Culture  Date    Production    Superficie\n",
      "1150               LINGUERE     NIEBE  2019  33750.000000  45000.000000\n",
      "387      REGION DE KAFFRINE       RIZ  2022    648.368235    440.284711\n",
      "2008              TIVAOUANE     NIEBE  2019   9790.000000  22000.000000\n",
      "1699  REGION DE TAMBACOUNDA       RIZ  2019   3721.899984   1437.096990\n",
      "822                SALEMATA    SORGHO  2022   2270.929747   1234.200950\n",
      "...                     ...       ...   ...           ...           ...\n",
      "1656                SEDHIOU       MIL  2018  15410.463334   9833.000000\n",
      "1110                KEBEMER       MIL  2018  11770.950000  36405.000000\n",
      "1147               LINGUERE       MIL  2022  12642.763268  36645.690633\n",
      "1312                RANEROU  ARACHIDE  2021   1552.632100   1819.157823\n",
      "873                  SARAYA      MAIS  2018   9828.720000   3400.000000\n",
      "\n",
      "[1734 rows x 5 columns]\n"
     ]
    }
   ],
   "source": [
    "print(x_train)"
   ]
  },
  {
   "cell_type": "code",
   "execution_count": 25,
   "metadata": {},
   "outputs": [],
   "source": [
    "#transformation des variables\n",
    "\n",
    "ohe = OneHotEncoder(drop='first')    #pour encoder des variables nominales non ordinales\n",
    "scale = StandardScaler()             #Utilisé pour normaliser les variables\n",
    "\n",
    "preprocesser = ColumnTransformer(\n",
    "        transformers = [\n",
    "            ('StandardScale', scale, [2, 3, 4]),\n",
    "            ('OHE', ohe, [0, 1]),\n",
    "        ],\n",
    "        remainder='passthrough'\n",
    ")"
   ]
  },
  {
   "cell_type": "code",
   "execution_count": 26,
   "metadata": {},
   "outputs": [],
   "source": [
    "x_train_encoder = preprocesser.fit_transform(x_train)\n",
    "x_test_encoder = preprocesser.transform(x_test)"
   ]
  },
  {
   "cell_type": "code",
   "execution_count": 27,
   "metadata": {},
   "outputs": [
    {
     "name": "stdout",
     "output_type": "stream",
     "text": [
      "  (0, 0)\t-0.30858479737507066\n",
      "  (0, 1)\t0.044829024130470296\n",
      "  (0, 2)\t0.8558360420974939\n",
      "  (0, 24)\t1.0\n",
      "  (0, 62)\t1.0\n",
      "  (1, 0)\t1.4496387688301815\n",
      "  (1, 1)\t-0.4782243077875793\n",
      "  (1, 2)\t-0.5553408210785787\n",
      "  (1, 37)\t1.0\n",
      "  (1, 63)\t1.0\n",
      "  (2, 0)\t-0.30858479737507066\n",
      "  (2, 1)\t-0.33377339407891743\n",
      "  (2, 2)\t0.12744117595385326\n",
      "  (2, 55)\t1.0\n",
      "  (2, 62)\t1.0\n",
      "  (3, 0)\t-0.30858479737507066\n",
      "  (3, 1)\t-0.42965809107429176\n",
      "  (3, 2)\t-0.5237724321110866\n",
      "  (3, 45)\t1.0\n",
      "  (3, 63)\t1.0\n",
      "  (4, 0)\t1.4496387688301815\n",
      "  (4, 1)\t-0.45258550511084067\n",
      "  (4, 2)\t-0.5301980162040796\n",
      "  (4, 50)\t1.0\n",
      "  (4, 64)\t1.0\n",
      "  :\t:\n",
      "  (1728, 61)\t1.0\n",
      "  (1729, 0)\t-0.8946593194434881\n",
      "  (1729, 1)\t-0.24496199967667\n",
      "  (1729, 2)\t-0.2578797082361326\n",
      "  (1729, 52)\t1.0\n",
      "  (1729, 61)\t1.0\n",
      "  (1730, 0)\t-0.8946593194434881\n",
      "  (1730, 1)\t-0.3024715384715766\n",
      "  (1730, 2)\t0.583638047553816\n",
      "  (1730, 19)\t1.0\n",
      "  (1730, 61)\t1.0\n",
      "  (1731, 0)\t1.4496387688301815\n",
      "  (1731, 1)\t-0.288695636482924\n",
      "  (1731, 2)\t0.5912605615305453\n",
      "  (1731, 24)\t1.0\n",
      "  (1731, 61)\t1.0\n",
      "  (1732, 0)\t0.863564246761764\n",
      "  (1732, 1)\t-0.463935639756661\n",
      "  (1732, 2)\t-0.5116728169345116\n",
      "  (1732, 34)\t1.0\n",
      "  (1733, 0)\t-0.8946593194434881\n",
      "  (1733, 1)\t-0.3331615624581717\n",
      "  (1733, 2)\t-0.46160858536230825\n",
      "  (1733, 51)\t1.0\n",
      "  (1733, 59)\t1.0\n"
     ]
    }
   ],
   "source": [
    "print(x_train_encoder)"
   ]
  },
  {
   "cell_type": "code",
   "execution_count": 28,
   "metadata": {},
   "outputs": [
    {
     "name": "stdout",
     "output_type": "stream",
     "text": [
      "                     Region   Culture  Date    Production    Superficie\n",
      "1150               LINGUERE     NIEBE  2019  33750.000000  45000.000000\n",
      "387      REGION DE KAFFRINE       RIZ  2022    648.368235    440.284711\n",
      "2008              TIVAOUANE     NIEBE  2019   9790.000000  22000.000000\n",
      "1699  REGION DE TAMBACOUNDA       RIZ  2019   3721.899984   1437.096990\n",
      "822                SALEMATA    SORGHO  2022   2270.929747   1234.200950\n",
      "...                     ...       ...   ...           ...           ...\n",
      "1656                SEDHIOU       MIL  2018  15410.463334   9833.000000\n",
      "1110                KEBEMER       MIL  2018  11770.950000  36405.000000\n",
      "1147               LINGUERE       MIL  2022  12642.763268  36645.690633\n",
      "1312                RANEROU  ARACHIDE  2021   1552.632100   1819.157823\n",
      "873                  SARAYA      MAIS  2018   9828.720000   3400.000000\n",
      "\n",
      "[1734 rows x 5 columns]\n"
     ]
    }
   ],
   "source": [
    "print(x_train)"
   ]
  },
  {
   "cell_type": "code",
   "execution_count": 29,
   "metadata": {},
   "outputs": [],
   "source": [
    "#importation de librairies suppl\n",
    "\n",
    "from sklearn.tree import DecisionTreeRegressor\n",
    "from sklearn.ensemble import RandomForestRegressor\n",
    "from sklearn.metrics import r2_score\n"
   ]
  },
  {
   "cell_type": "code",
   "execution_count": 30,
   "metadata": {
    "scrolled": true
   },
   "outputs": [
    {
     "name": "stdout",
     "output_type": "stream",
     "text": [
      "lr : mae : 1015.4014367485277 score : 0.822697881720504\n",
      "Dtr : mae : 375.1420644341421 score : 0.9222395423565853\n",
      "Rdf : mae : 360.9876917409829 score : 0.933023458495064\n"
     ]
    }
   ],
   "source": [
    "#entrainement des differents modeles\n",
    "\n",
    "models = {\n",
    "    'lr':LinearRegression(),\n",
    "    'Dtr':DecisionTreeRegressor(),\n",
    "    'Rdf':RandomForestRegressor()\n",
    "}\n",
    "for name, md in models.items():\n",
    "    md.fit(x_train_encoder,y_train)\n",
    "    y_pred = md.predict(x_test_encoder)\n",
    "    \n",
    "    print(f\"{name} : mae : {mean_absolute_error(y_test,y_pred)} score : {r2_score(y_test,y_pred)}\")"
   ]
  },
  {
   "cell_type": "code",
   "execution_count": 31,
   "metadata": {
    "scrolled": true
   },
   "outputs": [
    {
     "data": {
      "image/png": "[encoded data removed]",
      "text/plain": [
       "<Figure size 432x288 with 1 Axes>"
      ]
     },
     "metadata": {
      "needs_background": "light"
     },
     "output_type": "display_data"
    }
   ],
   "source": [
    "#visualisation des données apres apprentissage\n",
    "\n",
    "plt.scatter(y_test, y_pred, alpha=0.5)\n",
    "plt.title('Nuage de points entre les valeurs réelles et les prédictions du modèle RF')\n",
    "plt.xlabel('Vraies valeurs (y_test)')\n",
    "plt.ylabel('Prédictions du modèle (y_pred)')\n",
    "\n",
    "# Ajouter une ligne de tendance (diagonale)\n",
    "plt.plot([min(y_test), max(y_test)], [min(y_test), max(y_test)], color='red', linewidth=2)\n",
    "\n",
    "plt.show()"
   ]
  },
  {
   "cell_type": "code",
   "execution_count": 32,
   "metadata": {},
   "outputs": [],
   "source": [
    "#selection du modele de random forest \n",
    "\n",
    "Rdf = RandomForestRegressor()\n",
    "Rdf.fit(x_train_encoder,y_train)\n",
    "y_pred_rdf=Rdf.predict(x_test_encoder)\n"
   ]
  },
  {
   "cell_type": "code",
   "execution_count": 33,
   "metadata": {},
   "outputs": [
    {
     "name": "stdout",
     "output_type": "stream",
     "text": [
      "mae : 354.4468210020434 score : 0.9362570384573013\n"
     ]
    }
   ],
   "source": [
    "print(f\"mae : {mean_absolute_error(y_test,y_pred_rdf)} score : {r2_score(y_test,y_pred_rdf)}\")"
   ]
  },
  {
   "cell_type": "code",
   "execution_count": 34,
   "metadata": {},
   "outputs": [],
   "source": [
    "# test de la prediction avec de nouvelles valeures\n",
    "\n",
    "X = np.array([[\"DAKAR\", 'ARACHIDE', 2023 , 12000 , 200 ]])"
   ]
  },
  {
   "cell_type": "code",
   "execution_count": 35,
   "metadata": {},
   "outputs": [
    {
     "name": "stdout",
     "output_type": "stream",
     "text": [
      "[['DAKAR' 'ARACHIDE' '2023' '12000' '200']]\n"
     ]
    }
   ],
   "source": [
    "print(X)"
   ]
  },
  {
   "cell_type": "code",
   "execution_count": 36,
   "metadata": {},
   "outputs": [
    {
     "name": "stderr",
     "output_type": "stream",
     "text": [
      "C:\\Users\\AA\\Anaconda3\\lib\\site-packages\\sklearn\\base.py:451: UserWarning: X does not have valid feature names, but StandardScaler was fitted with feature names\n",
      "  \"X does not have valid feature names, but\"\n",
      "C:\\Users\\AA\\Anaconda3\\lib\\site-packages\\sklearn\\base.py:451: UserWarning: X does not have valid feature names, but OneHotEncoder was fitted with feature names\n",
      "  \"X does not have valid feature names, but\"\n"
     ]
    }
   ],
   "source": [
    "X_essai_Rdf= preprocesser.transform(X)"
   ]
  },
  {
   "cell_type": "code",
   "execution_count": 39,
   "metadata": {},
   "outputs": [],
   "source": [
    "y_essai_Rdf=Rdf.predict(X_essai_Rdf)"
   ]
  },
  {
   "cell_type": "code",
   "execution_count": 40,
   "metadata": {},
   "outputs": [
    {
     "name": "stdout",
     "output_type": "stream",
     "text": [
      "[2343.49134134]\n"
     ]
    }
   ],
   "source": [
    "print(y_essai_Rdf)"
   ]
  },
  {
   "cell_type": "code",
   "execution_count": 41,
   "metadata": {},
   "outputs": [],
   "source": [
    "#sauvegarde du modele dans un fichier joblib\n",
    "\n",
    "import joblib\n"
   ]
  },
  {
   "cell_type": "code",
   "execution_count": 42,
   "metadata": {},
   "outputs": [],
   "source": [
    "\n",
    "#creer un dictionnaire \n",
    "\n",
    "data = {\"model\": Rdf, \"encoder\": preprocesser}\n",
    "\n",
    "#ouverture du fichier joblib contenant le dictionnaire\n",
    "\n",
    "with open('saved_file_rendement.joblib', 'wb') as file:\n",
    "    joblib.dump(data, file)"
   ]
  },
  {
   "cell_type": "code",
   "execution_count": 43,
   "metadata": {},
   "outputs": [],
   "source": [
    "#verification de la sauvegarde\n",
    "\n",
    "with open('saved_file_rendement.joblib', 'rb') as file:\n",
    "           data = joblib.load(file)\n",
    "    \n",
    "Rdf_loaded = data[\"model\"]    \n",
    "preprocesser = data[\"encoder\"]\n"
   ]
  },
  {
   "cell_type": "code",
   "execution_count": 44,
   "metadata": {},
   "outputs": [
    {
     "name": "stdout",
     "output_type": "stream",
     "text": [
      "[2343.49134134]\n"
     ]
    }
   ],
   "source": [
    "#refaire la prediction\n",
    "y_pred_reboot = Rdf_loaded.predict(X_essai_Rdf)\n",
    "print(y_pred_reboot)"
   ]
  }
 ],
 "metadata": {
  "kernelspec": {
   "display_name": "Python 3",
   "language": "python",
   "name": "python3"
  },
  "language_info": {
   "codemirror_mode": {
    "name": "ipython",
    "version": 3
   },
   "file_extension": ".py",
   "mimetype": "text/x-python",
   "name": "python",
   "nbconvert_exporter": "python",
   "pygments_lexer": "ipython3",
   "version": "3.7.3"
  }
 },
 "nbformat": 4,
 "nbformat_minor": 2
}
