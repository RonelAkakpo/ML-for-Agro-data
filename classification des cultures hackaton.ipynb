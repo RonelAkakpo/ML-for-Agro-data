{
 "cells": [
  {
   "cell_type": "code",
   "execution_count": 1,
   "metadata": {},
   "outputs": [],
   "source": [
    "#import librairies\n",
    "\n",
    "\n",
    "import streamlit as st\n",
    "import pandas as pd\n",
    "import numpy as np\n",
    "import matplotlib\n",
    "import matplotlib.pyplot as plt\n",
    "import sklearn"
   ]
  },
  {
   "cell_type": "code",
   "execution_count": 2,
   "metadata": {},
   "outputs": [],
   "source": [
    "df = pd.read_csv(\"RENDEMENT.csv\", sep=';')"
   ]
  },
  {
   "cell_type": "code",
   "execution_count": 3,
   "metadata": {},
   "outputs": [],
   "source": [
    "df = df.rename({\"region\":\"Region\"}, axis=1)\n",
    "df = df.rename({\"culture\":\"Culture\"}, axis=1)"
   ]
  },
  {
   "cell_type": "code",
   "execution_count": 4,
   "metadata": {},
   "outputs": [],
   "source": [
    "df = df[df[\"Rendement kg/ha\"].notnull()]"
   ]
  },
  {
   "cell_type": "code",
   "execution_count": 5,
   "metadata": {},
   "outputs": [],
   "source": [
    "df = df.rename({\"Rendement kg/ha\":\"Rendement\"}, axis=1)\n",
    "df = df.rename({\"Superficie en ha\":\"Superficie\"}, axis=1)\n",
    "df = df.rename({\"Production en tonne\":\"Production\"}, axis=1)"
   ]
  },
  {
   "cell_type": "code",
   "execution_count": 6,
   "metadata": {},
   "outputs": [],
   "source": [
    "#suppression des colonnes non prises en compte dans le modele\n",
    "\n",
    "df = df.drop(\"Date\", axis=1)"
   ]
  },
  {
   "cell_type": "code",
   "execution_count": 7,
   "metadata": {},
   "outputs": [
    {
     "data": {
      "text/html": [
       "<div>\n",
       "<style scoped>\n",
       "    .dataframe tbody tr th:only-of-type {\n",
       "        vertical-align: middle;\n",
       "    }\n",
       "\n",
       "    .dataframe tbody tr th {\n",
       "        vertical-align: top;\n",
       "    }\n",
       "\n",
       "    .dataframe thead th {\n",
       "        text-align: right;\n",
       "    }\n",
       "</style>\n",
       "<table border=\"1\" class=\"dataframe\">\n",
       "  <thead>\n",
       "    <tr style=\"text-align: right;\">\n",
       "      <th></th>\n",
       "      <th>Region</th>\n",
       "      <th>Culture</th>\n",
       "      <th>Production</th>\n",
       "      <th>Superficie</th>\n",
       "      <th>Rendement</th>\n",
       "    </tr>\n",
       "  </thead>\n",
       "  <tbody>\n",
       "    <tr>\n",
       "      <th>0</th>\n",
       "      <td>DAKAR</td>\n",
       "      <td>ARACHIDE</td>\n",
       "      <td>1884.493889</td>\n",
       "      <td>3140.823149</td>\n",
       "      <td>764.142857</td>\n",
       "    </tr>\n",
       "    <tr>\n",
       "      <th>1</th>\n",
       "      <td>DAKAR</td>\n",
       "      <td>ARACHIDE</td>\n",
       "      <td>55.762016</td>\n",
       "      <td>371.746770</td>\n",
       "      <td>150.000000</td>\n",
       "    </tr>\n",
       "    <tr>\n",
       "      <th>2</th>\n",
       "      <td>DAKAR</td>\n",
       "      <td>ARACHIDE</td>\n",
       "      <td>80.000000</td>\n",
       "      <td>400.000000</td>\n",
       "      <td>200.000000</td>\n",
       "    </tr>\n",
       "    <tr>\n",
       "      <th>3</th>\n",
       "      <td>DAKAR</td>\n",
       "      <td>ARACHIDE</td>\n",
       "      <td>556.529307</td>\n",
       "      <td>894.741651</td>\n",
       "      <td>622.000000</td>\n",
       "    </tr>\n",
       "    <tr>\n",
       "      <th>4</th>\n",
       "      <td>DAKAR</td>\n",
       "      <td>ARACHIDE</td>\n",
       "      <td>741.750042</td>\n",
       "      <td>1211.026408</td>\n",
       "      <td>612.497000</td>\n",
       "    </tr>\n",
       "  </tbody>\n",
       "</table>\n",
       "</div>"
      ],
      "text/plain": [
       "  Region   Culture   Production   Superficie   Rendement\n",
       "0  DAKAR  ARACHIDE  1884.493889  3140.823149  764.142857\n",
       "1  DAKAR  ARACHIDE    55.762016   371.746770  150.000000\n",
       "2  DAKAR  ARACHIDE    80.000000   400.000000  200.000000\n",
       "3  DAKAR  ARACHIDE   556.529307   894.741651  622.000000\n",
       "4  DAKAR  ARACHIDE   741.750042  1211.026408  612.497000"
      ]
     },
     "execution_count": 7,
     "metadata": {},
     "output_type": "execute_result"
    }
   ],
   "source": [
    "df.head()"
   ]
  },
  {
   "cell_type": "code",
   "execution_count": 8,
   "metadata": {},
   "outputs": [
    {
     "data": {
      "text/plain": [
       "ARACHIDE    331\n",
       "MAIS        321\n",
       "NIEBE       315\n",
       "SORGHO      314\n",
       "MIL         302\n",
       "MANIOC      300\n",
       "RIZ         223\n",
       "FONIO        62\n",
       "Name: Culture, dtype: int64"
      ]
     },
     "execution_count": 8,
     "metadata": {},
     "output_type": "execute_result"
    }
   ],
   "source": [
    "df['Culture'].value_counts()\n"
   ]
  },
  {
   "cell_type": "code",
   "execution_count": 9,
   "metadata": {},
   "outputs": [],
   "source": [
    "#Nous allons codifier la variable culture\n",
    "\n",
    "df_dict = {\n",
    "    'ARACHIDE': 1,\n",
    "    'MAIS': 2,\n",
    "    'NIEBE': 3,\n",
    "    'SORGHO': 4,\n",
    "    'MIL': 5,\n",
    "    'MANIOC': 6,\n",
    "    'RIZ': 7,\n",
    "    'FONIO': 8\n",
    "}\n",
    "df['Culture_num']=df['Culture'].map(df_dict)"
   ]
  },
  {
   "cell_type": "code",
   "execution_count": 10,
   "metadata": {},
   "outputs": [
    {
     "data": {
      "text/plain": [
       "1    331\n",
       "2    321\n",
       "3    315\n",
       "4    314\n",
       "5    302\n",
       "6    300\n",
       "7    223\n",
       "8     62\n",
       "Name: Culture_num, dtype: int64"
      ]
     },
     "execution_count": 10,
     "metadata": {},
     "output_type": "execute_result"
    }
   ],
   "source": [
    "df['Culture_num'].value_counts()\n"
   ]
  },
  {
   "cell_type": "code",
   "execution_count": 11,
   "metadata": {},
   "outputs": [
    {
     "data": {
      "text/html": [
       "<div>\n",
       "<style scoped>\n",
       "    .dataframe tbody tr th:only-of-type {\n",
       "        vertical-align: middle;\n",
       "    }\n",
       "\n",
       "    .dataframe tbody tr th {\n",
       "        vertical-align: top;\n",
       "    }\n",
       "\n",
       "    .dataframe thead th {\n",
       "        text-align: right;\n",
       "    }\n",
       "</style>\n",
       "<table border=\"1\" class=\"dataframe\">\n",
       "  <thead>\n",
       "    <tr style=\"text-align: right;\">\n",
       "      <th></th>\n",
       "      <th>Region</th>\n",
       "      <th>Culture</th>\n",
       "      <th>Production</th>\n",
       "      <th>Superficie</th>\n",
       "      <th>Rendement</th>\n",
       "      <th>Culture_num</th>\n",
       "    </tr>\n",
       "  </thead>\n",
       "  <tbody>\n",
       "    <tr>\n",
       "      <th>0</th>\n",
       "      <td>DAKAR</td>\n",
       "      <td>ARACHIDE</td>\n",
       "      <td>1884.493889</td>\n",
       "      <td>3140.823149</td>\n",
       "      <td>764.142857</td>\n",
       "      <td>1</td>\n",
       "    </tr>\n",
       "    <tr>\n",
       "      <th>1</th>\n",
       "      <td>DAKAR</td>\n",
       "      <td>ARACHIDE</td>\n",
       "      <td>55.762016</td>\n",
       "      <td>371.746770</td>\n",
       "      <td>150.000000</td>\n",
       "      <td>1</td>\n",
       "    </tr>\n",
       "    <tr>\n",
       "      <th>2</th>\n",
       "      <td>DAKAR</td>\n",
       "      <td>ARACHIDE</td>\n",
       "      <td>80.000000</td>\n",
       "      <td>400.000000</td>\n",
       "      <td>200.000000</td>\n",
       "      <td>1</td>\n",
       "    </tr>\n",
       "    <tr>\n",
       "      <th>3</th>\n",
       "      <td>DAKAR</td>\n",
       "      <td>ARACHIDE</td>\n",
       "      <td>556.529307</td>\n",
       "      <td>894.741651</td>\n",
       "      <td>622.000000</td>\n",
       "      <td>1</td>\n",
       "    </tr>\n",
       "    <tr>\n",
       "      <th>4</th>\n",
       "      <td>DAKAR</td>\n",
       "      <td>ARACHIDE</td>\n",
       "      <td>741.750042</td>\n",
       "      <td>1211.026408</td>\n",
       "      <td>612.497000</td>\n",
       "      <td>1</td>\n",
       "    </tr>\n",
       "  </tbody>\n",
       "</table>\n",
       "</div>"
      ],
      "text/plain": [
       "  Region   Culture   Production   Superficie   Rendement  Culture_num\n",
       "0  DAKAR  ARACHIDE  1884.493889  3140.823149  764.142857            1\n",
       "1  DAKAR  ARACHIDE    55.762016   371.746770  150.000000            1\n",
       "2  DAKAR  ARACHIDE    80.000000   400.000000  200.000000            1\n",
       "3  DAKAR  ARACHIDE   556.529307   894.741651  622.000000            1\n",
       "4  DAKAR  ARACHIDE   741.750042  1211.026408  612.497000            1"
      ]
     },
     "execution_count": 11,
     "metadata": {},
     "output_type": "execute_result"
    }
   ],
   "source": [
    "df.head()"
   ]
  },
  {
   "cell_type": "code",
   "execution_count": 12,
   "metadata": {},
   "outputs": [],
   "source": [
    "x = df.drop(['Culture','Culture_num'],axis=1)\n",
    "y = df['Culture_num']"
   ]
  },
  {
   "cell_type": "code",
   "execution_count": 13,
   "metadata": {},
   "outputs": [
    {
     "name": "stdout",
     "output_type": "stream",
     "text": [
      "          Region   Production   Superficie    Rendement\n",
      "0          DAKAR  1884.493889  3140.823149   764.142857\n",
      "1          DAKAR    55.762016   371.746770   150.000000\n",
      "2          DAKAR    80.000000   400.000000   200.000000\n",
      "3          DAKAR   556.529307   894.741651   622.000000\n",
      "4          DAKAR   741.750042  1211.026408   612.497000\n",
      "...          ...          ...          ...          ...\n",
      "2182  ZIGUINCHOR  2425.685825   938.732904  2584.000000\n",
      "2183  ZIGUINCHOR  1606.500000   850.000000  1890.000000\n",
      "2184  ZIGUINCHOR  1735.236137   889.000000  1951.896667\n",
      "2185  ZIGUINCHOR  1585.839485   759.079449  2089.161400\n",
      "2186  ZIGUINCHOR  2944.100000   998.000000  2950.000000\n",
      "\n",
      "[2168 rows x 4 columns]\n"
     ]
    }
   ],
   "source": [
    "print(x)"
   ]
  },
  {
   "cell_type": "code",
   "execution_count": 14,
   "metadata": {},
   "outputs": [],
   "source": [
    "from sklearn.preprocessing import OneHotEncoder\n",
    "from sklearn.compose import ColumnTransformer\n",
    "from sklearn.preprocessing import StandardScaler\n",
    "\n",
    "from sklearn.model_selection import train_test_split\n"
   ]
  },
  {
   "cell_type": "code",
   "execution_count": 15,
   "metadata": {},
   "outputs": [],
   "source": [
    "x_train, x_test, y_train, y_test = train_test_split(x, y, test_size=0.2, random_state=42)"
   ]
  },
  {
   "cell_type": "code",
   "execution_count": 16,
   "metadata": {},
   "outputs": [],
   "source": [
    "#transformation des variables\n",
    "\n",
    "ohe = OneHotEncoder(drop='first')    #pour encoder des variables nominales non ordinales\n",
    "scale = StandardScaler()             #Utilisé pour normaliser les variables\n",
    "\n",
    "preprocesser4 = ColumnTransformer(\n",
    "        transformers = [\n",
    "            ('StandardScale', scale, [1, 2, 3]),\n",
    "            ('OHE', ohe, [0]),\n",
    "        ],\n",
    "        remainder='passthrough'\n",
    ")"
   ]
  },
  {
   "cell_type": "code",
   "execution_count": 17,
   "metadata": {},
   "outputs": [],
   "source": [
    "x_train_encoder = preprocesser4.fit_transform(x_train)\n",
    "x_test_encoder = preprocesser4.transform(x_test)"
   ]
  },
  {
   "cell_type": "code",
   "execution_count": 18,
   "metadata": {},
   "outputs": [
    {
     "name": "stdout",
     "output_type": "stream",
     "text": [
      "K-Nearest Neighbors  with accuracy : 0.7073732718894009\n",
      "Decision Tree  with accuracy : 0.6658986175115207\n",
      "Random Forest  with accuracy : 0.771889400921659\n"
     ]
    }
   ],
   "source": [
    "#entrainement des differents modeles\n",
    "\n",
    "\n",
    "from sklearn.neighbors import KNeighborsClassifier\n",
    "from sklearn.tree import DecisionTreeClassifier\n",
    "from sklearn.ensemble import RandomForestClassifier\n",
    "from sklearn.metrics import accuracy_score\n",
    "\n",
    "\n",
    "# creation dune instance pr chaque modele\n",
    "models = {\n",
    "    'K-Nearest Neighbors': KNeighborsClassifier(),\n",
    "    'Decision Tree': DecisionTreeClassifier(),\n",
    "    'Random Forest': RandomForestClassifier(),\n",
    "}\n",
    "\n",
    "\n",
    "for name, md in models.items():\n",
    "    md.fit(x_train_encoder,y_train)\n",
    "    y_pred = md.predict(x_test_encoder)\n",
    "    \n",
    "    print(f\"{name}  with accuracy : {accuracy_score(y_test,y_pred)}\")"
   ]
  },
  {
   "cell_type": "code",
   "execution_count": 19,
   "metadata": {},
   "outputs": [
    {
     "name": "stdout",
     "output_type": "stream",
     "text": [
      "1505    4\n",
      "611     2\n",
      "2006    3\n",
      "1731    1\n",
      "1532    6\n",
      "       ..\n",
      "446     2\n",
      "1341    2\n",
      "1260    3\n",
      "20      2\n",
      "1851    7\n",
      "Name: Culture_num, Length: 434, dtype: int64\n"
     ]
    }
   ],
   "source": [
    "print(y_test)"
   ]
  },
  {
   "cell_type": "code",
   "execution_count": 20,
   "metadata": {},
   "outputs": [
    {
     "data": {
      "text/plain": [
       "0.7857142857142857"
      ]
     },
     "execution_count": 20,
     "metadata": {},
     "output_type": "execute_result"
    }
   ],
   "source": [
    "#on fais le choix du random forest classifier\n",
    "\n",
    "rdfc = RandomForestClassifier()\n",
    "rdfc.fit(x_train_encoder,y_train)\n",
    "y_pred = rdfc.predict(x_test_encoder)\n",
    "accuracy_score(y_test,y_pred)"
   ]
  },
  {
   "cell_type": "code",
   "execution_count": 21,
   "metadata": {},
   "outputs": [],
   "source": [
    "# test de la prediction avec de nouvelles valeures\n",
    "\n",
    "X = np.array([[\"DAKAR\", 12000, 10 , 200]])"
   ]
  },
  {
   "cell_type": "code",
   "execution_count": 22,
   "metadata": {},
   "outputs": [
    {
     "name": "stdout",
     "output_type": "stream",
     "text": [
      "[['DAKAR' '12000' '10' '200']]\n"
     ]
    }
   ],
   "source": [
    "print(X)"
   ]
  },
  {
   "cell_type": "code",
   "execution_count": 23,
   "metadata": {},
   "outputs": [
    {
     "name": "stderr",
     "output_type": "stream",
     "text": [
      "C:\\Users\\AA\\Anaconda3\\lib\\site-packages\\sklearn\\base.py:451: UserWarning: X does not have valid feature names, but StandardScaler was fitted with feature names\n",
      "  \"X does not have valid feature names, but\"\n",
      "C:\\Users\\AA\\Anaconda3\\lib\\site-packages\\sklearn\\base.py:451: UserWarning: X does not have valid feature names, but OneHotEncoder was fitted with feature names\n",
      "  \"X does not have valid feature names, but\"\n"
     ]
    }
   ],
   "source": [
    "X_essai_rdfc= preprocesser4.transform(X)"
   ]
  },
  {
   "cell_type": "code",
   "execution_count": 24,
   "metadata": {},
   "outputs": [],
   "source": [
    "y_essai_rdfc=rdfc.predict(X_essai_rdfc)"
   ]
  },
  {
   "cell_type": "code",
   "execution_count": 25,
   "metadata": {},
   "outputs": [
    {
     "name": "stdout",
     "output_type": "stream",
     "text": [
      "[4]\n"
     ]
    }
   ],
   "source": [
    "print(y_essai_rdfc)"
   ]
  },
  {
   "cell_type": "code",
   "execution_count": 26,
   "metadata": {},
   "outputs": [],
   "source": [
    "#sauvegarde du modele dans un fichier joblib\n",
    "\n",
    "import joblib\n"
   ]
  },
  {
   "cell_type": "code",
   "execution_count": 27,
   "metadata": {},
   "outputs": [],
   "source": [
    "\n",
    "#creer un dictionnaire \n",
    "\n",
    "data = {\"model\": rdfc, \"encoder\": preprocesser4}\n",
    "\n",
    "#ouverture du fichier pickle contenant le dictionnaire\n",
    "with open('saved_file_recommandation.joblib', 'wb') as file:\n",
    "        joblib.dump(data, file)"
   ]
  },
  {
   "cell_type": "code",
   "execution_count": 28,
   "metadata": {},
   "outputs": [],
   "source": [
    "#verification de la sauvegarde\n",
    "\n",
    "with open('saved_file_recommandation.joblib', 'rb') as file:\n",
    "    data = joblib.load(file)\n",
    "    \n",
    "rdfc_loaded = data[\"model\"]    \n",
    "preprocesser4 = data[\"encoder\"]"
   ]
  },
  {
   "cell_type": "code",
   "execution_count": 29,
   "metadata": {},
   "outputs": [
    {
     "name": "stdout",
     "output_type": "stream",
     "text": [
      "[4]\n"
     ]
    }
   ],
   "source": [
    "#refaire la prediction\n",
    "y_pred_reboot_rdfc = rdfc_loaded.predict(X_essai_rdfc)\n",
    "print(y_pred_reboot_rdfc)"
   ]
  }
 ],
 "metadata": {
  "kernelspec": {
   "display_name": "Python 3",
   "language": "python",
   "name": "python3"
  },
  "language_info": {
   "codemirror_mode": {
    "name": "ipython",
    "version": 3
   },
   "file_extension": ".py",
   "mimetype": "text/x-python",
   "name": "python",
   "nbconvert_exporter": "python",
   "pygments_lexer": "ipython3",
   "version": "3.7.3"
  }
 },
 "nbformat": 4,
 "nbformat_minor": 2
}
